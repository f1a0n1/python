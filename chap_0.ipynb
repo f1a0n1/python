{
  "nbformat": 4,
  "nbformat_minor": 0,
  "metadata": {
    "colab": {
      "name": "chap 0",
      "provenance": [],
      "authorship_tag": "ABX9TyPLQBpONcJuk11DENLGVua3",
      "include_colab_link": true
    },
    "kernelspec": {
      "name": "python3",
      "display_name": "Python 3"
    },
    "language_info": {
      "name": "python"
    }
  },
  "cells": [
    {
      "cell_type": "markdown",
      "metadata": {
        "id": "view-in-github",
        "colab_type": "text"
      },
      "source": [
        "<a href=\"https://colab.research.google.com/github/f1a0n1/python/blob/main/chap_0.ipynb\" target=\"_parent\"><img src=\"https://colab.research.google.com/assets/colab-badge.svg\" alt=\"Open In Colab\"/></a>"
      ]
    },
    {
      "cell_type": "code",
      "execution_count": null,
      "metadata": {
        "id": "8pHTeKgQ50fm"
      },
      "outputs": [],
      "source": [
        "a=5\n",
        "b=3\n",
        "a+b"
      ]
    },
    {
      "cell_type": "code",
      "source": [
        "import calendar\n",
        "print(calendar.month(2021,2))"
      ],
      "metadata": {
        "id": "zo7rhwvF6dyb"
      },
      "execution_count": null,
      "outputs": []
    },
    {
      "cell_type": "code",
      "source": [
        "print(calendar.calendar(2021))"
      ],
      "metadata": {
        "id": "7dNykmrO6g7Q"
      },
      "execution_count": null,
      "outputs": []
    },
    {
      "cell_type": "code",
      "source": [
        "import requests\n",
        "a=requests.get(\"http://www.must.edu.tw\")\n",
        "print(a.text)"
      ],
      "metadata": {
        "id": "iLhNOfhh6lAJ"
      },
      "execution_count": null,
      "outputs": []
    },
    {
      "cell_type": "code",
      "source": [
        "import webbrowser\n",
        "b=requests.get(\"https://random.dog/woof.json\") . json()['url']\n",
        "webbrowser.open(b)"
      ],
      "metadata": {
        "id": "RlNU8jFD7E39"
      },
      "execution_count": null,
      "outputs": []
    },
    {
      "cell_type": "code",
      "source": [
        "import  matplotlib.pyplot as plt\n",
        "x=[1,2,3]\n",
        "y=[4,5,6]\n",
        "plt.bar(x,y)\n",
        "plt.show()"
      ],
      "metadata": {
        "id": "NI0vRlcC7Iv4"
      },
      "execution_count": null,
      "outputs": []
    },
    {
      "cell_type": "code",
      "source": [
        "plt.pie(x, labels=y)\n",
        "plt.show()"
      ],
      "metadata": {
        "id": "qdu2A4j17LWQ"
      },
      "execution_count": null,
      "outputs": []
    }
  ]
}