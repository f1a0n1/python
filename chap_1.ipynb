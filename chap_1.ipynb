{
  "nbformat": 4,
  "nbformat_minor": 0,
  "metadata": {
    "colab": {
      "name": "chap 1",
      "provenance": [],
      "collapsed_sections": [],
      "authorship_tag": "ABX9TyP4ynYvDseqMhH/ITleJf8F",
      "include_colab_link": true
    },
    "kernelspec": {
      "name": "python3",
      "display_name": "Python 3"
    },
    "language_info": {
      "name": "python"
    }
  },
  "cells": [
    {
      "cell_type": "markdown",
      "metadata": {
        "id": "view-in-github",
        "colab_type": "text"
      },
      "source": [
        "<a href=\"https://colab.research.google.com/github/f1a0n1/python/blob/main/chap_1.ipynb\" target=\"_parent\"><img src=\"https://colab.research.google.com/assets/colab-badge.svg\" alt=\"Open In Colab\"/></a>"
      ]
    },
    {
      "cell_type": "markdown",
      "source": [
        "註解\n"
      ],
      "metadata": {
        "id": "9YO0-fst75oW"
      }
    },
    {
      "cell_type": "code",
      "execution_count": null,
      "metadata": {
        "colab": {
          "base_uri": "https://localhost:8080/"
        },
        "id": "rwGxhI4Z7nG8",
        "outputId": "1ae32dd3-b232-414b-9be4-ae186d95fcbd"
      },
      "outputs": [
        {
          "output_type": "stream",
          "name": "stdout",
          "text": [
            "8\n"
          ]
        }
      ],
      "source": [
        "a=3  #單行註解\n",
        "b=5\n",
        "print(a+b)"
      ]
    },
    {
      "cell_type": "code",
      "source": [
        "'''\n",
        "多行註解\n",
        "多行註解\n",
        "多行註解\n",
        "'''\n",
        "a=3\n",
        "b=5\n",
        "print(a+b)"
      ],
      "metadata": {
        "colab": {
          "base_uri": "https://localhost:8080/"
        },
        "id": "knUIjve87xLa",
        "outputId": "cd4a9cdf-270e-482f-9244-30a9c9494588"
      },
      "execution_count": null,
      "outputs": [
        {
          "output_type": "stream",
          "name": "stdout",
          "text": [
            "8\n"
          ]
        }
      ]
    },
    {
      "cell_type": "markdown",
      "source": [
        "運算式"
      ],
      "metadata": {
        "id": "6SywweLl8Aps"
      }
    },
    {
      "cell_type": "code",
      "source": [
        "#變數交換\n",
        "x=1\n",
        "y=10\n",
        "\n",
        "z=x\n",
        "x=y\n",
        "y=z\n",
        "print(x)\n",
        "print(y)"
      ],
      "metadata": {
        "colab": {
          "base_uri": "https://localhost:8080/"
        },
        "id": "HFHkmBL370mc",
        "outputId": "7ddef3ba-8e58-470f-fe51-89df537b4760"
      },
      "execution_count": null,
      "outputs": [
        {
          "output_type": "stream",
          "name": "stdout",
          "text": [
            "10\n",
            "1\n"
          ]
        }
      ]
    },
    {
      "cell_type": "code",
      "source": [
        "x=1\n",
        "y=10\n",
        "\n",
        "x=x+y\n",
        "y=x-y\n",
        "x=x-y\n",
        "print(x)\n",
        "print(y)"
      ],
      "metadata": {
        "colab": {
          "base_uri": "https://localhost:8080/"
        },
        "id": "0miTakFa72T0",
        "outputId": "0fa806a5-c7c0-4544-d144-15af23608974"
      },
      "execution_count": null,
      "outputs": [
        {
          "output_type": "stream",
          "name": "stdout",
          "text": [
            "10\n",
            "1\n"
          ]
        }
      ]
    },
    {
      "cell_type": "code",
      "source": [
        "#python版本的變數交換\n",
        "x=1\n",
        "y=10\n",
        "x,y = y,x\n",
        "print(x)\n",
        "print(y)"
      ],
      "metadata": {
        "colab": {
          "base_uri": "https://localhost:8080/"
        },
        "id": "7RPlair-74kI",
        "outputId": "05a8009a-dd77-4a0a-a6ea-40c5babef586"
      },
      "execution_count": null,
      "outputs": [
        {
          "output_type": "stream",
          "name": "stdout",
          "text": [
            "10\n",
            "1\n"
          ]
        }
      ]
    },
    {
      "cell_type": "markdown",
      "source": [
        "變數\n",
        "變數的平行設定"
      ],
      "metadata": {
        "id": "F2EZvp0387Yg"
      }
    },
    {
      "cell_type": "code",
      "source": [
        "x, y, z= 3, 4, 5\n",
        "print(x)\n",
        "print(y)\n",
        "print(z)"
      ],
      "metadata": {
        "colab": {
          "base_uri": "https://localhost:8080/"
        },
        "id": "jg5u3Tmn8PfW",
        "outputId": "913aa65a-edac-4269-80d4-cd22d096d2fb"
      },
      "execution_count": null,
      "outputs": [
        {
          "output_type": "stream",
          "name": "stdout",
          "text": [
            "3\n",
            "4\n",
            "5\n"
          ]
        }
      ]
    },
    {
      "cell_type": "code",
      "source": [
        "x, y, z = 3, 4, 5\n",
        "x += 1 #x=x+1\n",
        "y *= 2 #y=y*2\n",
        "z **= 3 #z^3\n",
        "print(x, y, z)"
      ],
      "metadata": {
        "colab": {
          "base_uri": "https://localhost:8080/"
        },
        "id": "K6DT6ZBM8QQn",
        "outputId": "6f2ed1be-b7d6-499c-b266-0f9ef4b1e753"
      },
      "execution_count": null,
      "outputs": [
        {
          "output_type": "stream",
          "name": "stdout",
          "text": [
            "4 8 125\n"
          ]
        }
      ]
    },
    {
      "cell_type": "markdown",
      "source": [
        "變數的應用\n",
        "Q：邊長為3, 4, 5的三角形，其面積大小為何?\n",
        "海龍公式：\n",
        "s=(a+b+c)/2\n",
        "sqrt(s(s-a)(s-b)(s-c))"
      ],
      "metadata": {
        "id": "gW_3zRcm8_q0"
      }
    },
    {
      "cell_type": "code",
      "source": [
        "import math\n",
        "a,b,c=3,4,5\n",
        "s=(a+b+c)/2\n",
        "d=math.sqrt(s*(s-a)*(s-b)*(s-c))\n",
        "print(d)"
      ],
      "metadata": {
        "colab": {
          "base_uri": "https://localhost:8080/"
        },
        "id": "qgRdjbAH8R-D",
        "outputId": "034b3b0c-28a9-4d01-f1c1-6ba36c13cfc7"
      },
      "execution_count": null,
      "outputs": [
        {
          "output_type": "stream",
          "name": "stdout",
          "text": [
            "6.0\n"
          ]
        }
      ]
    },
    {
      "cell_type": "markdown",
      "source": [
        "Q：半徑為10的圓形，其面積大小為何?"
      ],
      "metadata": {
        "id": "jgAb2j5X9Dnu"
      }
    },
    {
      "cell_type": "code",
      "source": [
        "import math\n",
        "r=10\n",
        "print(r*r*math.pi)"
      ],
      "metadata": {
        "colab": {
          "base_uri": "https://localhost:8080/"
        },
        "id": "YM0QKWO98UbZ",
        "outputId": "462f3656-81e2-4131-b46f-aa42825e45bc"
      },
      "execution_count": null,
      "outputs": [
        {
          "output_type": "stream",
          "name": "stdout",
          "text": [
            "314.1592653589793\n"
          ]
        }
      ]
    },
    {
      "cell_type": "markdown",
      "source": [
        "資料型別\n",
        "python屬於動態類型變數，使用前不需要宣告資料型態"
      ],
      "metadata": {
        "id": "9qsKV6rp9HHQ"
      }
    },
    {
      "cell_type": "code",
      "source": [
        "x=254\n",
        "print(type(x))\n",
        "y=254.0\n",
        "print(type(y))\n",
        "z='write'\n",
        "print(type(z))\n",
        "print(type(x==y))"
      ],
      "metadata": {
        "colab": {
          "base_uri": "https://localhost:8080/"
        },
        "id": "ZliZrd6f8V94",
        "outputId": "cacc9421-1d85-4997-d8ce-245b74913203"
      },
      "execution_count": null,
      "outputs": [
        {
          "output_type": "stream",
          "name": "stdout",
          "text": [
            "<class 'int'>\n",
            "<class 'float'>\n",
            "<class 'str'>\n",
            "<class 'bool'>\n"
          ]
        }
      ]
    },
    {
      "cell_type": "markdown",
      "source": [
        "算術符號"
      ],
      "metadata": {
        "id": "nddEHK4k9J0E"
      }
    },
    {
      "cell_type": "code",
      "source": [
        "x=10\n",
        "y=3\n",
        "print(x/y)  #除法\n",
        "print(x//y) #求商\n",
        "print(x%y)  #求餘數"
      ],
      "metadata": {
        "colab": {
          "base_uri": "https://localhost:8080/"
        },
        "id": "1cZBefSP8Yjd",
        "outputId": "8d746978-bf7f-4de0-88a0-a98942ec3eb3"
      },
      "execution_count": null,
      "outputs": [
        {
          "output_type": "stream",
          "name": "stdout",
          "text": [
            "3.3333333333333335\n",
            "3\n",
            "1\n"
          ]
        }
      ]
    },
    {
      "cell_type": "markdown",
      "source": [
        "注意數字的正確性"
      ],
      "metadata": {
        "id": "UKC-Bf7X9L7c"
      }
    },
    {
      "cell_type": "code",
      "source": [
        "x=3.141592627\n",
        "print(x-3.14) #比正確值略小"
      ],
      "metadata": {
        "colab": {
          "base_uri": "https://localhost:8080/"
        },
        "id": "QfCQAQtL8Z6U",
        "outputId": "be020ee9-2f49-459a-e951-bb219e5b9ac0"
      },
      "execution_count": null,
      "outputs": [
        {
          "output_type": "stream",
          "name": "stdout",
          "text": [
            "0.0015926269999999576\n"
          ]
        }
      ]
    },
    {
      "cell_type": "markdown",
      "source": [
        "算術符號的順序\n",
        "()括號 > *次方 > / 乘除 > +-加減"
      ],
      "metadata": {
        "id": "S1eyhVHF9OHm"
      }
    },
    {
      "cell_type": "code",
      "source": [
        "x=(5*(1+2)**2-3+4/2)\n",
        "print(x)"
      ],
      "metadata": {
        "colab": {
          "base_uri": "https://localhost:8080/"
        },
        "id": "CVKYgcRf8bY6",
        "outputId": "eb4abf78-1d43-4be2-e40f-6ab04a38708c"
      },
      "execution_count": null,
      "outputs": [
        {
          "output_type": "stream",
          "name": "stdout",
          "text": [
            "44.0\n"
          ]
        }
      ]
    },
    {
      "cell_type": "markdown",
      "source": [
        "關係比較"
      ],
      "metadata": {
        "id": "K_80pwPY9QOk"
      }
    },
    {
      "cell_type": "code",
      "source": [
        "print(10==10)\n",
        "x, y = 10, 20\n",
        "print(x==y)  # == 關係比較\n",
        "x=y          # =  指派值\n",
        "print(x)"
      ],
      "metadata": {
        "colab": {
          "base_uri": "https://localhost:8080/"
        },
        "id": "k21EgSDg8c--",
        "outputId": "c31c7de9-424b-41b4-c5fa-dceaa91366a7"
      },
      "execution_count": null,
      "outputs": [
        {
          "output_type": "stream",
          "name": "stdout",
          "text": [
            "True\n",
            "False\n",
            "20\n"
          ]
        }
      ]
    },
    {
      "cell_type": "markdown",
      "source": [
        "關係運算，以閏年為例"
      ],
      "metadata": {
        "id": "I0PHhoUQ9R7p"
      }
    },
    {
      "cell_type": "code",
      "source": [
        "y=2010\n",
        "print(y%4==0 and y%100!=0 or y%400==0)\n",
        "y=2012\n",
        "print(y%4==0 and y%100!=0 or y%400==0)\n",
        "y=1900\n",
        "print(y%4==0 and y%100!=0 or y%400==0)\n",
        "y=2000\n",
        "print(y%4==0 and y%100!=0 or y%400==0)"
      ],
      "metadata": {
        "colab": {
          "base_uri": "https://localhost:8080/"
        },
        "id": "dduXoELu8esS",
        "outputId": "095b4e2d-446c-4a3e-bc42-efb1c7cf26fa"
      },
      "execution_count": null,
      "outputs": [
        {
          "output_type": "stream",
          "name": "stdout",
          "text": [
            "False\n",
            "True\n",
            "False\n",
            "True\n"
          ]
        }
      ]
    },
    {
      "cell_type": "markdown",
      "source": [
        "型態轉換"
      ],
      "metadata": {
        "id": "tyq2HlD19Wd8"
      }
    },
    {
      "cell_type": "code",
      "source": [
        "#小心不同型態之間所得到的結果跟想像不同\n",
        "x=\"must\"\n",
        "print(10*x)\n",
        "print(\"10\"+x)\n",
        "print(10,x)"
      ],
      "metadata": {
        "colab": {
          "base_uri": "https://localhost:8080/"
        },
        "id": "_7UddldH8gpg",
        "outputId": "c456f765-4a75-4b8d-f4d7-d18e8bd55da0"
      },
      "execution_count": null,
      "outputs": [
        {
          "output_type": "stream",
          "name": "stdout",
          "text": [
            "mustmustmustmustmustmustmustmustmustmust\n",
            "10must\n",
            "10 must\n"
          ]
        }
      ]
    },
    {
      "cell_type": "code",
      "source": [
        "x=12\n",
        "print(type(x))\n",
        "y=float(x)+0.5 #強制型別轉換\n",
        "print(type(y))\n",
        "print(int(\"123\"))\n",
        "print(int(123.33))\n",
        "print(int(float(\"123.33\")))"
      ],
      "metadata": {
        "id": "AYtprc_u8pe5",
        "outputId": "815716b3-20a8-4b15-bb1f-28a78e7a5bc2",
        "colab": {
          "base_uri": "https://localhost:8080/"
        }
      },
      "execution_count": null,
      "outputs": [
        {
          "output_type": "stream",
          "name": "stdout",
          "text": [
            "<class 'int'>\n",
            "<class 'float'>\n",
            "123\n",
            "123\n",
            "123\n"
          ]
        }
      ]
    },
    {
      "cell_type": "code",
      "source": [
        "#字串的型別轉換\n",
        "x=10*3.25  #x=32.5\n",
        "y=200*200  #y=40000\n",
        "s=\"The value of x is \" + str(x) + ' and y is ' + str(y)\n",
        "print(s)\n",
        "print(\"The value of x is\", x,\"and y is\", y)\n",
        "print(\"The value of x is {} and y is {}\".format(x,y))"
      ],
      "metadata": {
        "colab": {
          "base_uri": "https://localhost:8080/"
        },
        "id": "0nl4CSux8rA-",
        "outputId": "e00e1468-cf2a-4a81-e953-c76aaeba1a3b"
      },
      "execution_count": null,
      "outputs": [
        {
          "output_type": "stream",
          "name": "stdout",
          "text": [
            "The value of x is 32.5 and y is 40000\n",
            "The value of x is 32.5 and y is 40000\n",
            "The value of x is 32.5 and y is 40000\n"
          ]
        }
      ]
    },
    {
      "cell_type": "markdown",
      "source": [
        "非內建模組"
      ],
      "metadata": {
        "id": "VDStJxKq9ZIb"
      }
    },
    {
      "cell_type": "code",
      "source": [
        "import math\n",
        "print(math.pi)\n",
        "print(math.pow(2,3))\n",
        "print(8.3*10.58*math.sin(37.0/180*math.pi)/2)\n",
        "print(math.sqrt(25))"
      ],
      "metadata": {
        "id": "uIPIQrHW8siR",
        "colab": {
          "base_uri": "https://localhost:8080/"
        },
        "outputId": "4183ca81-4b84-423a-e1e1-6f06dd20ba5c"
      },
      "execution_count": 20,
      "outputs": [
        {
          "output_type": "stream",
          "name": "stdout",
          "text": [
            "3.141592653589793\n",
            "8.0\n",
            "26.423892221536985\n",
            "5.0\n"
          ]
        }
      ]
    },
    {
      "cell_type": "markdown",
      "source": [
        "範例：算圓面積"
      ],
      "metadata": {
        "id": "XsIQpc189c8x"
      }
    },
    {
      "cell_type": "code",
      "source": [
        "import math\n",
        "r=input(\"請輸入圓的半徑：\")\n",
        "area=float(r)*float(r)*math.pi\n",
        "print(\"圓面積為：\",area)"
      ],
      "metadata": {
        "colab": {
          "base_uri": "https://localhost:8080/"
        },
        "id": "7ztxabJS8uAF",
        "outputId": "481a435d-c10a-4f85-bb22-d9add82b9473"
      },
      "execution_count": null,
      "outputs": [
        {
          "output_type": "stream",
          "name": "stdout",
          "text": [
            "請輸入圓的半徑：10\n",
            "圓面積為： 314.1592653589793\n"
          ]
        }
      ]
    },
    {
      "cell_type": "markdown",
      "source": [
        "應用題：算矩形面積"
      ],
      "metadata": {
        "id": "ncIyVqtP9e4F"
      }
    },
    {
      "cell_type": "code",
      "source": [
        "r=input(\"請輸入矩形的長：\")\n",
        "w=input(\"請輸入矩形的寬：\")\n",
        "area=float(r)*float(w)\n",
        "print(\"矩形面積為：\",area)"
      ],
      "metadata": {
        "id": "7j9jASZt8vnW",
        "colab": {
          "base_uri": "https://localhost:8080/"
        },
        "outputId": "3c0c81b7-8c84-49b1-ffec-f389cd7ae8c2"
      },
      "execution_count": 21,
      "outputs": [
        {
          "output_type": "stream",
          "name": "stdout",
          "text": [
            "請輸入矩形的長：10\n",
            "請輸入矩形的寬：5\n",
            "矩形面積為： 50.0\n"
          ]
        }
      ]
    },
    {
      "cell_type": "markdown",
      "source": [
        "eval()函數\n",
        "eval會把str型態的表示式，轉換成數學式進行計算"
      ],
      "metadata": {
        "id": "ZyL4pF-U9kkM"
      }
    },
    {
      "cell_type": "code",
      "source": [
        "print(eval(\"3+5\"))\n",
        "id=input(\"請輸入產品編號：\")\n",
        "print(type(id))\n",
        "print(type(eval(id)))"
      ],
      "metadata": {
        "id": "ibhRRsSw8xAG",
        "colab": {
          "base_uri": "https://localhost:8080/"
        },
        "outputId": "a5264f7b-074a-408d-e2b9-67c7bceedc11"
      },
      "execution_count": 22,
      "outputs": [
        {
          "output_type": "stream",
          "name": "stdout",
          "text": [
            "8\n",
            "請輸入產品編號：3\n",
            "<class 'str'>\n",
            "<class 'int'>\n"
          ]
        }
      ]
    },
    {
      "cell_type": "markdown",
      "source": [
        "print的三種方式\n",
        "1.透過,區隔要列印的變數 eg: print(\"This\", \"is\", \"a\", \"book\")\n",
        "2.利用字串的str.format() (新式)\n",
        "3.%格式化输出字符串 (舊式)\n",
        "\n",
        "\n",
        "\n"
      ],
      "metadata": {
        "id": "dHuXGwCj9s6d"
      }
    },
    {
      "cell_type": "code",
      "source": [
        "print(\"This\", \"is\", \"a\", \"book\")\n",
        "print(\"This\"+\"is\"+\"a\"+\"book\")"
      ],
      "metadata": {
        "id": "9EPTIYuj8ydg",
        "colab": {
          "base_uri": "https://localhost:8080/"
        },
        "outputId": "34a87582-ccab-423e-b6ab-536efca28409"
      },
      "execution_count": 23,
      "outputs": [
        {
          "output_type": "stream",
          "name": "stdout",
          "text": [
            "This is a book\n",
            "Thisisabook\n"
          ]
        }
      ]
    },
    {
      "cell_type": "markdown",
      "source": [
        ".利用字串的str.format()，在{ }中替代變數的位置\n",
        ".eg: print(\"This {} a book\".format(\"is\"))\n",
        ".{}中可以設定格式\n",
        ".例如：{0:10} (10個空格，靠左對齊)\n",
        ".例如：{:,2f} (三個數字用,分隔，小數點後2位數)"
      ],
      "metadata": {
        "id": "UlQJoiaa93N5"
      }
    },
    {
      "cell_type": "code",
      "source": [
        "print(\"This {} a book\".format(\"is\"))\n",
        "x=123456.7890\n",
        "print(\"{:.2f}\".format(x))  #小數點.後兩位\n",
        "print(\"{:,.2f}\".format(x)) #,小數點前用,分開"
      ],
      "metadata": {
        "id": "BSD1p9hb8zw9",
        "colab": {
          "base_uri": "https://localhost:8080/"
        },
        "outputId": "060c0907-83a5-46f6-c64e-f63592868900"
      },
      "execution_count": 24,
      "outputs": [
        {
          "output_type": "stream",
          "name": "stdout",
          "text": [
            "This is a book\n",
            "123456.79\n",
            "123,456.79\n"
          ]
        }
      ]
    },
    {
      "cell_type": "markdown",
      "source": [
        ".C語言類似的 % 格式\n",
        ".%s (字串) %d (整數) %f (浮點數)\n",
        ".%s(字串): %10s (10格靠右對齊，不足的左方補空白), %-10s\n",
        ".%f(浮點數): %7.3f (總共7個浮點數位數，含一個小數點，以及三個小數點後數字)"
      ],
      "metadata": {
        "id": "W8KGYoiw9-dg"
      }
    },
    {
      "cell_type": "code",
      "source": [
        "print(\"This %-10s a %10s\" % (\"is\", \"book\")) #字串占10格，靠右2格\n",
        "print(\"%7.3f\" % 6789.4333)"
      ],
      "metadata": {
        "id": "FbNuZzhk81Yw",
        "colab": {
          "base_uri": "https://localhost:8080/"
        },
        "outputId": "0abd25f9-86f8-40a8-be0d-934c6c411154"
      },
      "execution_count": 25,
      "outputs": [
        {
          "output_type": "stream",
          "name": "stdout",
          "text": [
            "This is         a       book\n",
            "6789.433\n"
          ]
        }
      ]
    }
  ]
}