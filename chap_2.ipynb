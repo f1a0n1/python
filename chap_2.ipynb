{
  "nbformat": 4,
  "nbformat_minor": 0,
  "metadata": {
    "colab": {
      "name": "chap 2",
      "provenance": [],
      "authorship_tag": "ABX9TyOv/pEHCUsHX0jsljopckDX",
      "include_colab_link": true
    },
    "kernelspec": {
      "name": "python3",
      "display_name": "Python 3"
    },
    "language_info": {
      "name": "python"
    }
  },
  "cells": [
    {
      "cell_type": "markdown",
      "metadata": {
        "id": "view-in-github",
        "colab_type": "text"
      },
      "source": [
        "<a href=\"https://colab.research.google.com/github/f1a0n1/python/blob/main/chap_2.ipynb\" target=\"_parent\"><img src=\"https://colab.research.google.com/assets/colab-badge.svg\" alt=\"Open In Colab\"/></a>"
      ]
    },
    {
      "cell_type": "markdown",
      "source": [
        "Chap2 流程控制\n",
        "if else , elif"
      ],
      "metadata": {
        "id": "W_vW-DIj-Qr7"
      }
    },
    {
      "cell_type": "code",
      "execution_count": 1,
      "metadata": {
        "colab": {
          "base_uri": "https://localhost:8080/"
        },
        "id": "Z030kvd2-F8Q",
        "outputId": "4a70eede-2e53-499b-f221-1966ea820d70"
      },
      "outputs": [
        {
          "output_type": "stream",
          "name": "stdout",
          "text": [
            "b是比較大的數字\n"
          ]
        }
      ],
      "source": [
        "a=3\n",
        "b=4\n",
        "if a <= b:\n",
        "    print(\"b是比較大的數字\")\n",
        "else:\n",
        "    print(\"a是比較大的數字\")"
      ]
    },
    {
      "cell_type": "markdown",
      "source": [
        "成績評鑑"
      ],
      "metadata": {
        "id": "S_PFjqZx-W7E"
      }
    },
    {
      "cell_type": "code",
      "source": [
        "grade=87\n",
        "print(\"成績評鑑：\")\n",
        "if grade >= 90:\n",
        "    print(\"優等\")\n",
        "elif grade >=80:\n",
        "    print(\"甲等\")\n",
        "elif grade >=70:\n",
        "    print(\"乙等\")\n",
        "elif grade >=60:\n",
        "    print(\"丙等\")\n",
        "else:\n",
        "    print(\"不及格\")"
      ],
      "metadata": {
        "colab": {
          "base_uri": "https://localhost:8080/"
        },
        "id": "quZOq85B-Y2C",
        "outputId": "bc87784c-fb20-42cd-8e15-259d1540ac64"
      },
      "execution_count": 2,
      "outputs": [
        {
          "output_type": "stream",
          "name": "stdout",
          "text": [
            "成績評鑑：\n",
            "甲等\n"
          ]
        }
      ]
    },
    {
      "cell_type": "markdown",
      "source": [
        "for 迴圈"
      ],
      "metadata": {
        "id": "8s41pN57-fd4"
      }
    },
    {
      "cell_type": "code",
      "source": [
        "#1+2+3...+10總和\n",
        "sum = 0\n",
        "for count in range(1, 11, 1): #從1開始，間隔1, 不包含11\n",
        "    sum += count\n",
        "print(\"1+2+3+...+10 =\", sum)"
      ],
      "metadata": {
        "id": "3n7243bo-iWU"
      },
      "execution_count": null,
      "outputs": []
    },
    {
      "cell_type": "code",
      "source": [
        "#range另外一種寫法\n",
        "#1+2+3...+10總和\n",
        "sum = 0\n",
        "for count in range(11): #1-10, 不包含11\n",
        "    sum += count\n",
        "print(\"1+2+3+...+10 =\", sum)"
      ],
      "metadata": {
        "id": "Nwi9XeBt-kRZ"
      },
      "execution_count": null,
      "outputs": []
    },
    {
      "cell_type": "code",
      "source": [
        "mylist=\"for statement\"\n",
        "for c in mylist:\n",
        "    print(c)\n",
        "print(\"end list\")"
      ],
      "metadata": {
        "colab": {
          "base_uri": "https://localhost:8080/"
        },
        "id": "9dhYDhDY-l1I",
        "outputId": "cc701e49-5bfa-4364-976a-02469f303734"
      },
      "execution_count": 3,
      "outputs": [
        {
          "output_type": "stream",
          "name": "stdout",
          "text": [
            "f\n",
            "o\n",
            "r\n",
            " \n",
            "s\n",
            "t\n",
            "a\n",
            "t\n",
            "e\n",
            "m\n",
            "e\n",
            "n\n",
            "t\n",
            "end list\n"
          ]
        }
      ]
    },
    {
      "cell_type": "code",
      "source": [
        "for pl in [\"Java\", \"C#\", \"Python\"]:\n",
        "    print(pl)"
      ],
      "metadata": {
        "id": "OvCr0TLY-n4i"
      },
      "execution_count": null,
      "outputs": []
    },
    {
      "cell_type": "markdown",
      "source": [
        "雞兔同籠，若共有35個頭，94隻腳，請問有幾隻雞?幾隻兔?"
      ],
      "metadata": {
        "id": "rRbxgJj8-pW6"
      }
    },
    {
      "cell_type": "code",
      "source": [
        "for chicken in range(0,36):\n",
        "    rabbit=35-chicken\n",
        "    if (2*chicken+4*rabbit) == 94:\n",
        "        print(\"雞有\",chicken,\"隻,兔子有\",rabbit,\"隻\")\n",
        "        break\n",
        "else:\n",
        "    print(\"無解\")"
      ],
      "metadata": {
        "id": "I4dZ2LHg-qxb"
      },
      "execution_count": null,
      "outputs": []
    },
    {
      "cell_type": "markdown",
      "source": [
        "while迴圈"
      ],
      "metadata": {
        "id": "rnR6JboQ-srl"
      }
    },
    {
      "cell_type": "code",
      "source": [
        "sum=0\n",
        "count=1\n",
        "while count <=10:\n",
        "    sum += count\n",
        "    count += 1\n",
        "print(\"1+2+3+...+10=\",sum)"
      ],
      "metadata": {
        "id": "jAAY4bsO-uaR"
      },
      "execution_count": null,
      "outputs": []
    },
    {
      "cell_type": "markdown",
      "source": [
        "本金10000元，定存年利率0.6%，請問多久銀行存款會翻倍"
      ],
      "metadata": {
        "id": "SsAckan9-wDC"
      }
    },
    {
      "cell_type": "code",
      "source": [
        "x=10000\n",
        "years=0\n",
        "while x <= 20000:\n",
        "    x=x*1.006\n",
        "    years += 1\n",
        "print(str(years), \"年以後，存款加倍，為\", int(x),\"元\")"
      ],
      "metadata": {
        "id": "jGttQhKx-vt2"
      },
      "execution_count": null,
      "outputs": []
    },
    {
      "cell_type": "markdown",
      "source": [
        "帳號密碼判斷"
      ],
      "metadata": {
        "id": "JPaSS9vy-zPn"
      }
    },
    {
      "cell_type": "code",
      "source": [
        "id=\"tony\"\n",
        "pwd=\"1234\"\n",
        "while True:\n",
        "    x=input(\"請輸入帳號：\")\n",
        "    y=input(\"請輸入密碼：\")\n",
        "    if (x==id and y==pwd):\n",
        "        print(\"歡迎登入\")\n",
        "        break\n",
        "    else:\n",
        "        print(\"帳號或密碼輸入錯誤\")"
      ],
      "metadata": {
        "id": "Rd4PnGh6-05l"
      },
      "execution_count": null,
      "outputs": []
    },
    {
      "cell_type": "markdown",
      "source": [
        "亂數"
      ],
      "metadata": {
        "id": "jCstDoVA-3A0"
      }
    },
    {
      "cell_type": "code",
      "source": [
        "import random\n",
        "for i in range(0,10):\n",
        "    print(random.randint(1,9))"
      ],
      "metadata": {
        "id": "bXJAB9-W-4K2"
      },
      "execution_count": null,
      "outputs": []
    },
    {
      "cell_type": "markdown",
      "source": [
        "猜數字"
      ],
      "metadata": {
        "id": "9D7DAS7s-5ol"
      }
    },
    {
      "cell_type": "code",
      "source": [
        "import random\n",
        "number=random.randint(1,20)\n",
        "while True:\n",
        "    guess=int(input(\"請輸入1~20之間的數字-->\"))\n",
        "    if guess == number:\n",
        "        print(\"你猜對了，數字是\", number)\n",
        "        break\n",
        "    else:\n",
        "        print(\"你猜錯了\")"
      ],
      "metadata": {
        "id": "iPuquw_M-7QJ"
      },
      "execution_count": null,
      "outputs": []
    }
  ]
}